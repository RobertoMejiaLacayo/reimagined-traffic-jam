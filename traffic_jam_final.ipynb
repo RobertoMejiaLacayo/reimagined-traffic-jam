{
  "nbformat": 4,
  "nbformat_minor": 0,
  "metadata": {
    "colab": {
      "provenance": [],
      "authorship_tag": "ABX9TyOAV2ZUDIN32RBV7PulasN/",
      "include_colab_link": true
    },
    "kernelspec": {
      "name": "python3",
      "display_name": "Python 3"
    },
    "language_info": {
      "name": "python"
    }
  },
  "cells": [
    {
      "cell_type": "markdown",
      "metadata": {
        "id": "view-in-github",
        "colab_type": "text"
      },
      "source": [
        "<a href=\"https://colab.research.google.com/github/RobertoMejiaLacayo/reimagined-traffic-jam/blob/main/traffic_jam_final.ipynb\" target=\"_parent\"><img src=\"https://colab.research.google.com/assets/colab-badge.svg\" alt=\"Open In Colab\"/></a>"
      ]
    },
    {
      "cell_type": "markdown",
      "source": [
        "## An Intro to Complexity Through Traffic Jams (Roberto's Edition)\n",
        "\n",
        "Some code sourced from Think Complexity, 2nd edition.\n",
        "Made for the COMP 215 final\n",
        "\n",
        "Traffic jams are a common problem that we all experience while driving. Scientists use computer models to study how traffic jams happen and how we can prevent them. By studying how these computer characters behave, scientists can understand why traffic jams happen and how we can avoid them. This is important because traffic jams can cause accidents, waste time, and harm the environment. By using computer models to study traffic jams, we can make our roads safer and more efficient.\n",
        "\n",
        "-\n",
        "\n",
        "Roberto Mejia Lacayo\n",
        "April 17 2023"
      ],
      "metadata": {
        "id": "5eFWM0QDJ9vO"
      }
    },
    {
      "cell_type": "markdown",
      "source": [
        "First, we'll handle all the imports we need to get the job done."
      ],
      "metadata": {
        "id": "Ju9s6-F3yz5V"
      }
    },
    {
      "cell_type": "code",
      "execution_count": 1,
      "metadata": {
        "id": "oKHIOZvOJwaw"
      },
      "outputs": [],
      "source": [
        "%matplotlib inline\n",
        "\n",
        "import numpy as np\n",
        "import time\n",
        "import matplotlib\n",
        "import matplotlib.pyplot as plt\n",
        "from matplotlib import animation\n",
        "import matplotlib.colors as colors\n",
        "from time import sleep\n",
        "from IPython.display import clear_output"
      ]
    },
    {
      "cell_type": "markdown",
      "source": [
        "Setting up a dictionary and functions to use later on for data visualization too! \n",
        "I took these from previous labs, so you should be relatively familiar with this code."
      ],
      "metadata": {
        "id": "F_nxqo3EKSgT"
      }
    },
    {
      "cell_type": "code",
      "source": [
        "DEFAULT_IMSHOW_OPTIONS = dict(\n",
        "    cmap='Blues',\n",
        "    interpolation='none',\n",
        "    origin='upper',\n",
        ")\n",
        "\n",
        "def plot_2D_array(array, axes=None, title='', **options):\n",
        "    \"\"\" Plot the 2D array as an image on the given axes  1's will be dark blue, 0's will be light blue. \"\"\"\n",
        "    axes = axes or plt.gca()  # If not axes are provided, draw on current axes\n",
        "    axes.set_title(title)\n",
        "    axes.set_xticks([], [])  # remove axes tick marks\n",
        "    axes.set_yticks([], [])\n",
        "    options = {**DEFAULT_IMSHOW_OPTIONS, **options}\n",
        "    axes.imshow(array, **options)"
      ],
      "metadata": {
        "id": "GTC_MONpWpre"
      },
      "execution_count": 2,
      "outputs": []
    },
    {
      "cell_type": "markdown",
      "source": [
        "Using the Driver class from the textbook (we don't need to worry about coming up with these mechanics for the traffic jam model at our level, we're just using them)\n",
        "\n",
        "One thing to note: Notice how the choose_acceleration() takes in a parameter that we don't actually use. The reason behind this is because we want a uniform acceleration between all cars to best see how traffic jams become unjammed in an ideal world. (However, in an ideal world we wouldn't have any, which is why we're studying them in order to get closer to that)"
      ],
      "metadata": {
        "id": "u5CYUTocysqj"
      }
    },
    {
      "cell_type": "code",
      "source": [
        "class Driver:\n",
        "    def __init__(self, loc, speed=4):\n",
        "        \"\"\"Initialize the attributes.\n",
        "\n",
        "        loc: position on track, in miles\n",
        "        speed: speed in miles per hour\n",
        "        \"\"\"\n",
        "        self.start = loc\n",
        "        self.loc = loc\n",
        "        self.speed = speed\n",
        "\n",
        "    def choose_acceleration(self, dist):\n",
        "        \"\"\"Chooses acceleration based on distance.\n",
        "\n",
        "        dist: distance from the car in front\n",
        "\n",
        "        returns: 1 every time for now, regardless of distance\n",
        "        \"\"\"\n",
        "        return 1\n",
        "\n",
        "    def set_odometer(self):\n",
        "        self.start = self.loc\n",
        "\n",
        "    def read_odometer(self):\n",
        "        return self.loc - self.start"
      ],
      "metadata": {
        "id": "nj5LqcAho8jC"
      },
      "execution_count": 3,
      "outputs": []
    },
    {
      "cell_type": "markdown",
      "source": [
        "Now we're getting to the real meat of the project: Completing the Cell2D class that we're going to use to make this behave the way it's supposed to!\n",
        "\n",
        "Something to note here: this Cell2D class is likely applicable to a large range of classes and labs your textbook covers as it is barebones and has an animate() method"
      ],
      "metadata": {
        "id": "uhSJGFvwpfIh"
      }
    },
    {
      "cell_type": "code",
      "source": [
        "class Cell2D:\n",
        "    \"\"\"Universial 2D cellular automata array\"\"\"\n",
        "\n",
        "    def __init__(self, n, m=None):\n",
        "        \"\"\"Initializes the attributes.\n",
        "        n: number of rows\n",
        "        m: number of columns\n",
        "        \"\"\"\n",
        "\n",
        "        # A neat trick i picked up recently to allow all rectangular shapes !\n",
        "        # however, usually we encourage square shaped CAs just because we're weirdos in this class :P\n",
        "        if m == None:\n",
        "          m = n\n",
        "        else:\n",
        "          m = m\n",
        "\n",
        "        # setting default array cells to all 0s\n",
        "        self.array = np.zeros((n, m), np.uint8)\n",
        "\n",
        "    #pretty much just calls that code for visualization.\n",
        "    def draw(self):\n",
        "        \"\"\"Draws the array.\n",
        "        \"\"\"\n",
        "        plot_2D_array(self.array, DEFAULT_IMSHOW_OPTIONS)\n",
        "\n",
        "\n",
        "    # this was largely taken from a previous Animation2D and other labs and reworked to fit here.\n",
        "    def animate(self, frames, interval=None):\n",
        "        \"\"\"Animate the CA.\n",
        "        \n",
        "        frames: number of steps to draw in this animation\n",
        "        interval: time between frames in seconds\n",
        "        \"\"\"\n",
        "\n",
        "        plt.figure()\n",
        "        try:\n",
        "            for i in range(frames-1):\n",
        "                self.draw()\n",
        "                plt.show()\n",
        "                #change interval from None to a value when running this to increase interval between frames\n",
        "                if interval:\n",
        "                    sleep(interval)\n",
        "                self.step()\n",
        "                clear_output(wait=True)\n",
        "            self.draw()\n",
        "            plt.show()\n",
        "        except KeyboardInterrupt:\n",
        "            pass"
      ],
      "metadata": {
        "id": "__8pbL7gp6TV"
      },
      "execution_count": 4,
      "outputs": []
    },
    {
      "cell_type": "markdown",
      "source": [
        "Also just taking the Highway class from the textbook. Same story as the Driver class, really - no changes made here."
      ],
      "metadata": {
        "id": "CW9zgg8TpMCr"
      }
    },
    {
      "cell_type": "code",
      "source": [
        "class Highway(Cell2D):\n",
        "    max_acc = 1\n",
        "    min_acc = -10\n",
        "    speed_limit = 40\n",
        "\n",
        "    def __init__(self, n=10, length=1000, eps=0, constructor=Driver):\n",
        "        \"\"\"Initializes the attributes.\n",
        "\n",
        "        n: number of drivers\n",
        "        length: length of the track\n",
        "        eps: variability in speed\n",
        "        constructor: function used to instantiate drivers\n",
        "        \"\"\"\n",
        "        self.length = length\n",
        "        self.eps = eps\n",
        "        self.crashes = 0\n",
        "\n",
        "        # create the drivers\n",
        "        locs = np.linspace(0, length, n, endpoint=False)\n",
        "        self.drivers = [constructor(loc) for loc in locs]\n",
        "\n",
        "        # and link them up\n",
        "        for i in range(n):\n",
        "            j = (i+1) % n\n",
        "            self.drivers[i].next = self.drivers[j]\n",
        "\n",
        "    def step(self):\n",
        "        \"\"\"Performs one time step.\"\"\"\n",
        "        for driver in self.drivers:\n",
        "            self.move(driver)\n",
        "\n",
        "    def move(self, driver):\n",
        "        \"\"\"Updates `driver`.\n",
        "\n",
        "        driver: Driver object\n",
        "        \"\"\"\n",
        "        # get the distance to the next driver\n",
        "        dist = self.distance(driver)\n",
        "\n",
        "        # let the driver choose acceleration\n",
        "        acc = driver.choose_acceleration(dist)\n",
        "        acc = min(acc, self.max_acc)\n",
        "        acc = max(acc, self.min_acc)\n",
        "        speed = driver.speed + acc\n",
        "\n",
        "        # add random noise to speed\n",
        "        speed *= np.random.uniform(1-self.eps, 1+self.eps)\n",
        "\n",
        "        # keep it nonnegative and under the speed limit\n",
        "        speed = max(speed, 0)\n",
        "        speed = min(speed, self.speed_limit)\n",
        "\n",
        "        # if current speed would collide with next driver, stop\n",
        "        if speed > dist:\n",
        "            speed = 0\n",
        "            self.crashes += 1\n",
        "\n",
        "        # update speed and loc\n",
        "        driver.speed = speed\n",
        "        driver.loc += speed\n",
        "\n",
        "    def distance(self, driver):\n",
        "        \"\"\"Distance from `driver` to next driver.\n",
        "\n",
        "        driver: Driver object\n",
        "        \"\"\"\n",
        "        dist = driver.next.loc - driver.loc\n",
        "        # fix wraparound\n",
        "        if dist < 0:\n",
        "            dist += self.length\n",
        "        return dist\n",
        "\n",
        "    def set_odometers(self):\n",
        "        return [driver.set_odometer()\n",
        "                for driver in self.drivers] \n",
        "\n",
        "    def read_odometers(self):\n",
        "        return np.mean([driver.read_odometer()\n",
        "                        for driver in self.drivers])\n",
        "\n",
        "    def draw(self):\n",
        "        \"\"\"Draws the drivers and shows collisions.\n",
        "        \"\"\"\n",
        "        drivers = self.drivers\n",
        "        xs, ys = self.get_coords(drivers)\n",
        "        plt.plot(xs, ys, 'bs', markersize=10, alpha=0.7)\n",
        "\n",
        "        stopped = [driver for driver in self.drivers \n",
        "                  if driver.speed==0]\n",
        "        xs, ys = self.get_coords(stopped, r=0.8)\n",
        "        plt.plot(xs, ys, 'r^', markersize=12, alpha=0.7)\n",
        "\n",
        "        plt.axis('off')\n",
        "        plt.axis('equal')\n",
        "        plt.xlim([-1.05, 1.05])\n",
        "        plt.ylim([-1.05, 1.05])\n",
        "\n",
        "    def get_coords(self, drivers, r=1):\n",
        "        \"\"\"Gets the coordinates of the drivers.\n",
        "\n",
        "        Transforms from (row, col) to (x, y).\n",
        "\n",
        "        drivers: sequence of Driver\n",
        "        r: radius of the circle\n",
        "\n",
        "        returns: tuple of sequences, (xs, ys)\n",
        "        \"\"\"\n",
        "        locs = np.array([driver.loc for driver in drivers])\n",
        "        locs *= 2 * np.pi / self.length\n",
        "        xs = r * np.cos(locs)\n",
        "        ys = r * np.sin(locs)\n",
        "        return xs, ys"
      ],
      "metadata": {
        "id": "YTB1yj4SpKOx"
      },
      "execution_count": 5,
      "outputs": []
    },
    {
      "cell_type": "markdown",
      "source": [
        "Now, let's test and see what we've come up with!"
      ],
      "metadata": {
        "id": "KINs5JhoqCP6"
      }
    },
    {
      "cell_type": "code",
      "source": [
        "highway = Highway(30, eps=0.02)\n",
        "highway.animate(frames=50, interval=0.2)\n",
        "\n",
        "#printing the crashes for fun - I would hope this number is as close to 0 as possible...\n",
        "print(highway.crashes)"
      ],
      "metadata": {
        "colab": {
          "base_uri": "https://localhost:8080/",
          "height": 423
        },
        "id": "RfJRm2CzqFhj",
        "outputId": "8f332454-f522-417c-ef27-78503c06b9af"
      },
      "execution_count": 6,
      "outputs": [
        {
          "output_type": "display_data",
          "data": {
            "text/plain": [
              "<Figure size 640x480 with 1 Axes>"
            ],
            "image/png": "[encoded data removed]"
          },
          "metadata": {}
        },
        {
          "output_type": "stream",
          "name": "stdout",
          "text": [
            "57\n"
          ]
        }
      ]
    },
    {
      "cell_type": "markdown",
      "source": [
        "# Mini Analysis of a Quick Run:\n",
        "\n",
        "As we can see, even with uniform acceleration and a relatively conservative simulation, we can see the model acting pretty realistically! The number of crashes is somewhat alarming but good thing this is a simulation and not a real life scenario. ICBC wouldn't be too happy, haha\n",
        "\n",
        "Let's run some more simulations to get a better picture of this model. This is sourced straight from the textbook's notebook and is meant to show the correlation between `eps` and the average speed of drivers in the highway model.\n",
        "\n",
        "`eps` is the variability in speed in case you had forgotten."
      ],
      "metadata": {
        "id": "VHBkvDgly2S0"
      }
    },
    {
      "cell_type": "code",
      "source": [
        "def run_simulation(eps, constructor=Driver, iters=100):\n",
        "    res = []\n",
        "    for n in range(5, 100, 5):\n",
        "        highway = Highway(n, eps=eps, constructor=constructor)\n",
        "        for i in range(iters):\n",
        "            highway.step()\n",
        "\n",
        "        highway.set_odometers()\n",
        "        for i in range(iters):\n",
        "            highway.step()\n",
        "\n",
        "        res.append((n, highway.read_odometers() / iters))\n",
        "    \n",
        "    return np.transpose(res)"
      ],
      "metadata": {
        "id": "4xu5jlc-1h2p"
      },
      "execution_count": 7,
      "outputs": []
    },
    {
      "cell_type": "markdown",
      "source": [
        "The textbook also provides us with most of the code we need to plot a graph to better visualize the results of that experiment. All I've done is reworked it to better fit in this notebook, and given it a blood red palette to showcase the dangers of driving too fast!"
      ],
      "metadata": {
        "id": "47gTf3-74H-m"
      }
    },
    {
      "cell_type": "code",
      "source": [
        "eps_list = [0.0, 0.005, 0.05]\n",
        "\n",
        "# Define the shades of red to use for each value of eps\n",
        "colors = [(1.0, 0.0, 0.0), (0.8, 0.0, 0.0), (0.6, 0.0, 0.0)]\n",
        "\n",
        "# Plot the data for each value of eps with the corresponding shade of red\n",
        "for i, eps in enumerate(eps_list):\n",
        "    xs, ys = run_simulation(eps)\n",
        "    plt.plot(xs, ys, label='eps=%g' % eps, color=colors[i])\n",
        "\n",
        "# Add axis labels and legend\n",
        "plt.xlabel('Number of cars')\n",
        "plt.ylabel('Avg Speed')\n",
        "plt.legend()\n",
        "\n",
        "# Show the plot\n",
        "plt.show()\n",
        "\n",
        "\n"
      ],
      "metadata": {
        "colab": {
          "base_uri": "https://localhost:8080/",
          "height": 449
        },
        "id": "OkbRc0HA4sOT",
        "outputId": "f905d877-2b92-4769-aceb-2b11c58cde3a"
      },
      "execution_count": 8,
      "outputs": [
        {
          "output_type": "display_data",
          "data": {
            "text/plain": [
              "<Figure size 640x480 with 1 Axes>"
            ],
            "image/png": "[encoded data removed]"
          },
          "metadata": {}
        }
      ]
    },
    {
      "cell_type": "markdown",
      "source": [
        "So, what does this little experiment tell us? Well, following that earlier comment where I mentioned this being pretty realistic for a simple model, this graph shows how both a higher number of cars and a higher level of velocity variability ends up lowering the average speed. This is likely because of the congestion that results from too many cars driving near each other thanks to inconsistencies in speed, as well as just having lots of cars sharing the road."
      ],
      "metadata": {
        "id": "WP2Wo7qH7Ba7"
      }
    }
  ]
}